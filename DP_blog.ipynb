{
  "nbformat": 4,
  "nbformat_minor": 0,
  "metadata": {
    "colab": {
      "name": "DP_blog.ipynb",
      "provenance": [],
      "collapsed_sections": [],
      "authorship_tag": "ABX9TyMHWBMusXv9V/6BJG1SdeSZ",
      "include_colab_link": true
    },
    "kernelspec": {
      "name": "python3",
      "display_name": "Python 3"
    }
  },
  "cells": [
    {
      "cell_type": "markdown",
      "metadata": {
        "id": "view-in-github",
        "colab_type": "text"
      },
      "source": [
        "<a href=\"https://colab.research.google.com/github/Kritikalcoder/DP-primer/blob/master/DP_blog.ipynb\" target=\"_parent\"><img src=\"https://colab.research.google.com/assets/colab-badge.svg\" alt=\"Open In Colab\"/></a>"
      ]
    },
    {
      "cell_type": "code",
      "metadata": {
        "id": "J8qwvyvshQZG",
        "colab_type": "code",
        "colab": {}
      },
      "source": [
        ""
      ],
      "execution_count": 0,
      "outputs": []
    },
    {
      "cell_type": "markdown",
      "metadata": {
        "id": "_nOQwX_MhZj4",
        "colab_type": "text"
      },
      "source": [
        "### Topics\n",
        "\n",
        "1. Introduction to DP with a simple use case  \n",
        "2. DP noise mechanisms - what they are, strengths & weaknesses, when to use  \n",
        "3. DP preserving Machine Learning  \n",
        "4. DP preserving Deep Learning  \n",
        "5. Practical DP  \n",
        "6. Things no one tells you about DP  \n",
        "7. Vulnerabilities and weaknesses of DP"
      ]
    },
    {
      "cell_type": "code",
      "metadata": {
        "id": "GZbAtz3ZhkHA",
        "colab_type": "code",
        "colab": {}
      },
      "source": [
        ""
      ],
      "execution_count": 0,
      "outputs": []
    },
    {
      "cell_type": "markdown",
      "metadata": {
        "id": "qXjFXYrdhkQ2",
        "colab_type": "text"
      },
      "source": [
        "### Basic Instructions\n",
        "\n",
        "- Conversational tone of blogs\n",
        "- Integrate all blogs with Shaistha's & Archana's work\n",
        "- Make sure overlap is minimum\n",
        "- Initial intro blog needs to be small (bite-sized) covering the basics in an intutive manner with example code"
      ]
    }
  ]
}